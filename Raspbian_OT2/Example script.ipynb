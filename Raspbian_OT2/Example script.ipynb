{
 "cells": [
  {
   "cell_type": "markdown",
   "metadata": {},
   "source": [
    "## Get robot ready"
   ]
  },
  {
   "cell_type": "code",
   "execution_count": 4,
   "metadata": {},
   "outputs": [],
   "source": [
    "# We need to get the pins that control the smoothieboard and the lights ready to use. \n",
    "# The code below does this! This only needs to be done once after start-up.\n",
    "from opentrons.drivers.rpi_drivers import gpio\n",
    "import time\n",
    "gpio.initialize()\n",
    "\n",
    "# audio-enable pin can stay HIGH always, unless there is noise coming\n",
    "# from the amplifier, then we can set to LOW to disable the amplifier\n",
    "gpio.set_high(gpio.OUTPUT_PINS['AUDIO_ENABLE'])\n",
    "\n",
    "# smoothieware programming pins, must be in a known state (HIGH)\n",
    "gpio.set_high(gpio.OUTPUT_PINS['HALT'])\n",
    "gpio.set_high(gpio.OUTPUT_PINS['ISP'])\n",
    "gpio.set_low(gpio.OUTPUT_PINS['RESET'])\n",
    "time.sleep(0.25)\n",
    "gpio.set_high(gpio.OUTPUT_PINS['RESET'])\n",
    "time.sleep(0.25)"
   ]
  },
  {
   "cell_type": "markdown",
   "metadata": {},
   "source": [
    "## Connect to robot"
   ]
  },
  {
   "cell_type": "code",
   "execution_count": 5,
   "metadata": {},
   "outputs": [],
   "source": [
    "from opentrons import robot, labware, instruments\n",
    "robot.connect(\"/dev/ttyAMA0\") # We have to specify the port here."
   ]
  },
  {
   "cell_type": "markdown",
   "metadata": {},
   "source": [
    "## Do your thing"
   ]
  },
  {
   "cell_type": "code",
   "execution_count": 6,
   "metadata": {},
   "outputs": [
    {
     "name": "stderr",
     "output_type": "stream",
     "text": [
      "Unexpected response in _parse_position_response: \n"
     ]
    }
   ],
   "source": [
    "robot.home()\n",
    "robot.turn_on_rail_lights()\n",
    "#pipette =  pipette = instruments.P1000_Single(mount='left')\n",
    "#plate = labware.load('96-flat', '5')\n",
    "#pipette.move_to(plate[0])"
   ]
  },
  {
   "cell_type": "code",
   "execution_count": null,
   "metadata": {},
   "outputs": [],
   "source": []
  }
 ],
 "metadata": {
  "kernelspec": {
   "display_name": "Python 3",
   "language": "python",
   "name": "python3"
  },
  "language_info": {
   "codemirror_mode": {
    "name": "ipython",
    "version": 3
   },
   "file_extension": ".py",
   "mimetype": "text/x-python",
   "name": "python",
   "nbconvert_exporter": "python",
   "pygments_lexer": "ipython3",
   "version": "3.6.4"
  }
 },
 "nbformat": 4,
 "nbformat_minor": 2
}
